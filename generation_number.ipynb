{
  "cells": [
    {
      "cell_type": "code",
      "execution_count": null,
      "metadata": {
        "id": "NaiJZ_wgUgmx"
      },
      "outputs": [],
      "source": [
        "import tensorflow as tf\n",
        "import pandas as pd\n",
        "import matplotlib.pyplot as plt\n",
        "import numpy as np\n",
        "from tensorflow.keras.layers import (Dense,\n",
        "                                     BatchNormalization,\n",
        "                                     LeakyReLU,\n",
        "                                     Reshape,\n",
        "                                     Conv2DTranspose,\n",
        "                                     Conv2D,\n",
        "                                     Dropout,\n",
        "                                     Flatten)\n",
        "\n",
        "\n",
        "from sklearn.model_selection import train_test_split\n",
        "import pathlib"
      ]
    },
    {
      "cell_type": "code",
      "source": [
        "is_augmentation = False\n",
        "is_resize = False\n",
        "is_mnist = False"
      ],
      "metadata": {
        "id": "b7YnAfP1_IPQ"
      },
      "execution_count": null,
      "outputs": []
    },
    {
      "cell_type": "code",
      "source": [
        "from google.colab import drive\n",
        "drive.mount('/content/drive')\n",
        "\n",
        "import os\n",
        "os.chdir(\"/content/drive/My Drive/ml\")"
      ],
      "metadata": {
        "colab": {
          "base_uri": "https://localhost:8080/"
        },
        "id": "ZR1oVj_qSE2W",
        "outputId": "c0f6c772-dd6d-476f-ee71-19f379085d22"
      },
      "execution_count": null,
      "outputs": [
        {
          "output_type": "stream",
          "name": "stdout",
          "text": [
            "Drive already mounted at /content/drive; to attempt to forcibly remount, call drive.mount(\"/content/drive\", force_remount=True).\n"
          ]
        }
      ]
    },
    {
      "cell_type": "code",
      "source": [
        "if is_augmentation:\n",
        "  import cv2\n",
        "  from imgaug import augmenters as iaa\n",
        "\n",
        "  # Путь к директории с изображениями\n",
        "  directory = \"/content/drive/My Drive/ml\"\n",
        "\n",
        "  # Создаем аугментатор\n",
        "  seq = iaa.Sequential([\n",
        "      iaa.Affine(rotate=(-25, 25)),\n",
        "      iaa.Add((-50, 50)),\n",
        "      iaa.GaussianBlur(sigma=(0, 3.0))\n",
        "  ])\n",
        "\n",
        "  # Проходим по каждому каталогу от 0 до 9\n",
        "  for i in range(2,10):\n",
        "      images_path = os.path.join(directory, str(i))\n",
        "      images = os.listdir(images_path)\n",
        "\n",
        "      # Создаем 1000 новых изображений для каждого изображения в каталоге\n",
        "      for image_name in images:\n",
        "          image = cv2.imread(os.path.join(images_path, image_name))\n",
        "          for j in range(1000):\n",
        "              augmented_image = seq.augment_image(image)\n",
        "              new_image_name = image_name.split('.')[0] + f\"_aug{j}.{image_name.split('.')[1]}\"\n",
        "              cv2.imwrite(os.path.join(images_path, new_image_name), augmented_image)"
      ],
      "metadata": {
        "id": "jFL9mdODcEbk"
      },
      "execution_count": null,
      "outputs": []
    },
    {
      "cell_type": "code",
      "source": [
        "if is_resize:\n",
        "  from PIL import Image\n",
        "  import os\n",
        "\n",
        "  # Задаем новый размер изображений\n",
        "  new_width = 28\n",
        "  new_height = 28\n",
        "\n",
        "  # Путь к директории с изображениями\n",
        "  directory = \"/content/drive/My Drive/ml\"\n",
        "\n",
        "  # Проходим по директориям от 0 до 9\n",
        "  for dir in range(3,10):\n",
        "      # Получаем список файлов в директории\n",
        "      images_path = os.path.join(directory, str(dir))\n",
        "      print(images_path)\n",
        "      files = os.listdir(str(images_path))\n",
        "      # Проходим по каждому файлу\n",
        "      for file in files:\n",
        "          # Открываем изображение\n",
        "          image = Image.open(str(dir) + \"/\" + file)\n",
        "          # Изменяем размер изображения\n",
        "          image = image.resize((new_width, new_height))\n",
        "          # Сохраняем изображение с тем же именем в той же директории\n",
        "          image.save(str(dir) + \"/\" + file)"
      ],
      "metadata": {
        "id": "R-5M8zKgbix0"
      },
      "execution_count": null,
      "outputs": []
    },
    {
      "cell_type": "code",
      "execution_count": null,
      "metadata": {
        "id": "25oC4hx6YbVG",
        "colab": {
          "base_uri": "https://localhost:8080/"
        },
        "outputId": "70c1c996-c6ba-4698-e7c1-8a1eab179f75"
      },
      "outputs": [
        {
          "output_type": "stream",
          "name": "stdout",
          "text": [
            "Found 47555 files belonging to 11 classes.\n",
            "Using 38044 files for training.\n"
          ]
        }
      ],
      "source": [
        "if is_mnist:\n",
        "  (train_images, train_labels), (_, _) = tf.keras.datasets.mnist.load_data()\n",
        "  train_images = train_images.reshape(train_images.shape[0], 28, 28, 1).astype('float32')\n",
        "  train_images =train_images/255.0   #Normalise the image\n",
        "else:\n",
        "  # Задайте параметры для загрузчика\n",
        "  batchsize = 256\n",
        "  imgheight = 28 # Высота ваших изображений\n",
        "  imgwidth = 28 # Ширина ваших изображений\n",
        "\n",
        "  # Загрузите свои данные с диска\n",
        "  datadir = pathlib.Path(\"/content/drive/My Drive/ml\") # Путь к вашей директории с изображениями\n",
        "\n",
        "  traindataset = tf.keras.utils.image_dataset_from_directory(\n",
        "  datadir,\n",
        "  validation_split=0.2, # Доля данных для валидации\n",
        "  subset=\"training\", # Выберите подмножество для обучения\n",
        "  seed=123, # Задайте зерно для перемешивания\n",
        "  image_size=(imgheight, imgwidth), # Размер изображений\n",
        "  batch_size=batchsize) # Размер пакета\n",
        "\n",
        "  traindataset = traindataset.map(lambda images, labels: (tf.image.rgb_to_grayscale(images), labels))\n",
        "  traindataset = traindataset.as_numpy_iterator()\n",
        "\n",
        "  def train_generator():\n",
        "    for images, labels in traindataset:\n",
        "      yield images, labels\n",
        "\n",
        "  train_images, train_labels = next(train_generator())\n",
        "\n",
        "  train_images = train_images.reshape(train_images.shape[0], imgheight, imgwidth, 1).astype('float32')\n",
        "  train_images = train_images/255.0\n",
        "\n",
        "BUFFER_SIZE = 60000\n",
        "BATCH_SIZE = 256\n",
        "\n",
        "# Batch and shuffle the data\n",
        "train_dataset = tf.data.Dataset.from_tensor_slices(train_images).shuffle(BUFFER_SIZE).batch(BATCH_SIZE)"
      ]
    },
    {
      "cell_type": "code",
      "execution_count": null,
      "metadata": {
        "id": "_wbKRNkg00xz"
      },
      "outputs": [],
      "source": [
        "# (train_images, train_labels), (val_images, val_labels) = tf.keras.datasets.mnist.load_data()\n",
        "\n",
        "# train_images = train_images.reshape(train_images.shape[0], 28, 28, 1).astype('float32')\n",
        "# train_images =train_images/255.0   #Normalise the image\n",
        "\n",
        "# val_images = val_images.reshape(val_images.shape[0], 28, 28, 1).astype('float32')\n",
        "# val_images = val_images/255.0\n",
        "\n",
        "# VAL_BUFFER = 12000\n",
        "# BUFFER_SIZE = 48000\n",
        "# BATCH_SIZE = 256\n",
        "\n",
        "# train_images, val_images, train_labels, val_labels = train_test_split(train_images, train_labels, test_size=0.2, random_state=42)\n",
        "\n",
        "# train_dataset = tf.data.Dataset.from_tensor_slices(train_images).shuffle(BUFFER_SIZE).batch(BATCH_SIZE)\n",
        "# val_dataset = tf.data.Dataset.from_tensor_slices(val_images).shuffle(VAL_BUFFER).batch(BATCH_SIZE)"
      ]
    },
    {
      "cell_type": "code",
      "execution_count": null,
      "metadata": {
        "colab": {
          "base_uri": "https://localhost:8080/",
          "height": 447
        },
        "id": "7pKE542LZfjP",
        "outputId": "ccfd24ff-ab4a-4e22-8bad-82208c9e404f"
      },
      "outputs": [
        {
          "output_type": "execute_result",
          "data": {
            "text/plain": [
              "<matplotlib.image.AxesImage at 0x7ec8868adba0>"
            ]
          },
          "metadata": {},
          "execution_count": 8
        },
        {
          "output_type": "display_data",
          "data": {
            "text/plain": [
              "<Figure size 640x480 with 1 Axes>"
            ],
            "image/png": "[encoded data removed]"
          },
          "metadata": {}
        }
      ],
      "source": [
        "img=train_images[0]\n",
        "img=img.reshape(28,28)\n",
        "plt.imshow(img,cmap='Blues')"
      ]
    },
    {
      "cell_type": "code",
      "source": [
        "# import matplotlib.pyplot as plt\n",
        "\n",
        "# # Преобразуйте исходные изображения для вывода\n",
        "# train_images_reshaped = [img.reshape(28, 28) for img in train_images[15420:15427]]\n",
        "\n",
        "# # Создайте фигуру с семью подграфиками\n",
        "# fig, axes = plt.subplots(1, 7, figsize=(20, 20))\n",
        "\n",
        "# # Выведите каждое преобразованное изображение на отдельном подграфике\n",
        "# for i in range(7):\n",
        "#     axes[i].imshow(train_images_reshaped[i], cmap='Gray')\n",
        "#     axes[i].axis('off')\n",
        "\n",
        "# plt.show()"
      ],
      "metadata": {
        "id": "cRwQqM1Yr30z"
      },
      "execution_count": null,
      "outputs": []
    },
    {
      "cell_type": "code",
      "execution_count": null,
      "metadata": {
        "id": "ave-nz0Za4fW"
      },
      "outputs": [],
      "source": [
        "#prepare the generator model\n",
        "def make_generator_model():\n",
        "    model = tf.keras.Sequential()\n",
        "    model.add(Dense(7*7*256, use_bias=False, input_shape=(100,)))\n",
        "    model.add(BatchNormalization())\n",
        "    model.add(LeakyReLU())\n",
        "\n",
        "    model.add(Reshape((7, 7, 256)))\n",
        "    assert model.output_shape == (None, 7, 7, 256) # Note: None is the batch size\n",
        "\n",
        "    model.add(Conv2DTranspose(128, (5, 5), strides=(1, 1), padding='same', use_bias=False))\n",
        "    assert model.output_shape == (None, 7, 7, 128)\n",
        "    model.add(BatchNormalization())\n",
        "    model.add(LeakyReLU())\n",
        "\n",
        "    model.add(Conv2DTranspose(64, (5, 5), strides=(2, 2), padding='same', use_bias=False))\n",
        "    assert model.output_shape == (None, 14, 14, 64)\n",
        "    model.add(BatchNormalization())\n",
        "    model.add(LeakyReLU())\n",
        "\n",
        "    model.add(Conv2DTranspose(1, (5, 5), strides=(2, 2), padding='same', use_bias=False, activation='tanh'))\n",
        "    assert model.output_shape == (None, 28, 28, 1)\n",
        "\n",
        "    return model"
      ]
    },
    {
      "cell_type": "code",
      "execution_count": null,
      "metadata": {
        "colab": {
          "base_uri": "https://localhost:8080/"
        },
        "id": "VKbKuWVsylR7",
        "outputId": "4ba15156-eeff-4827-e4b9-0fd7a16b1f44"
      },
      "outputs": [
        {
          "output_type": "execute_result",
          "data": {
            "text/plain": [
              "<keras.src.engine.sequential.Sequential at 0x7ec8779abe80>"
            ]
          },
          "metadata": {},
          "execution_count": 11
        }
      ],
      "source": [
        "generator=make_generator_model()  #calling generator function\n",
        "generator"
      ]
    },
    {
      "cell_type": "code",
      "execution_count": null,
      "metadata": {
        "colab": {
          "base_uri": "https://localhost:8080/",
          "height": 447
        },
        "id": "nDnVfcloyvGo",
        "outputId": "83888877-38e5-45e8-e93f-66d83ee1553f"
      },
      "outputs": [
        {
          "output_type": "execute_result",
          "data": {
            "text/plain": [
              "<matplotlib.image.AxesImage at 0x7ec885492b30>"
            ]
          },
          "metadata": {},
          "execution_count": 12
        },
        {
          "output_type": "display_data",
          "data": {
            "text/plain": [
              "<Figure size 640x480 with 1 Axes>"
            ],
            "image/png": "[encoded data removed]"
          },
          "metadata": {}
        }
      ],
      "source": [
        "noise=tf.random.normal([1,100])\n",
        "generated_image = generator(noise, training=False)\n",
        "plt.imshow(generated_image[0, :, :, 0])\n",
        "plt.imshow(generated_image[0, :, :, 0], cmap='gray')"
      ]
    },
    {
      "cell_type": "code",
      "execution_count": null,
      "metadata": {
        "id": "Z-W3MJmT0Fqt"
      },
      "outputs": [],
      "source": [
        "def make_discriminator_model():\n",
        "    model = tf.keras.Sequential()\n",
        "\n",
        "    model.add(Conv2D(64, (5, 5), strides=(2, 2), padding='same', input_shape=[28, 28, 1]))\n",
        "    model.add(LeakyReLU())\n",
        "    model.add(Dropout(0.3))\n",
        "\n",
        "    model.add(Conv2D(128, (5, 5), strides=(2, 2), padding='same'))\n",
        "    model.add(LeakyReLU())\n",
        "    model.add(Dropout(0.3))\n",
        "\n",
        "    model.add(Flatten())\n",
        "    model.add(Dense(1))\n",
        "\n",
        "    return model"
      ]
    },
    {
      "cell_type": "code",
      "execution_count": null,
      "metadata": {
        "id": "yOupfOv-0Wxi"
      },
      "outputs": [],
      "source": [
        "discriminator = make_discriminator_model()"
      ]
    },
    {
      "cell_type": "code",
      "execution_count": null,
      "metadata": {
        "id": "_E8R06cy0h37"
      },
      "outputs": [],
      "source": [
        "cross_entropy = tf.keras.losses.BinaryCrossentropy(from_logits=True)\n",
        "\n",
        "def discriminator_loss(real_output, fake_output):\n",
        "    real_loss = cross_entropy(tf.ones_like(real_output), real_output)\n",
        "    fake_loss = cross_entropy(tf.zeros_like(fake_output), fake_output)\n",
        "    total_loss = real_loss + fake_loss\n",
        "    return total_loss\n",
        "\n",
        "def generator_loss(fake_output):\n",
        "    return cross_entropy(tf.ones_like(fake_output), fake_output)\n",
        "\n",
        "generator_optimizer = tf.keras.optimizers.Adam(1e-4)\n",
        "discriminator_optimizer = tf.keras.optimizers.Adam(1e-4)"
      ]
    },
    {
      "cell_type": "code",
      "execution_count": null,
      "metadata": {
        "id": "ldAMPGoCQP3B"
      },
      "outputs": [],
      "source": [
        "EPOCHS = 100\n",
        "# We will reuse this seed overtime (so it's easier)\n",
        "# to visualize progress in the animated GIF)\n",
        "num_examples_to_generate = 10\n",
        "noise_dim = 100\n",
        "seed = tf.random.normal([num_examples_to_generate, noise_dim])"
      ]
    },
    {
      "cell_type": "code",
      "execution_count": null,
      "metadata": {
        "id": "xbK8hBPuQlW-"
      },
      "outputs": [],
      "source": [
        "Batch_Size=4096\n",
        "@tf.function\n",
        "def train_step(images):\n",
        "  noise=tf.random.normal([Batch_Size,noise_dim])\n",
        "  # start the training by putting noise to generator and then calculate the loss of both generator and discriminator\n",
        "  with tf.GradientTape() as gen_tape, tf.GradientTape() as disc_tape:\n",
        "    generated_images = generator(noise, training=True)\n",
        "    real_output = discriminator(images, training=True)\n",
        "    fake_output = discriminator(generated_images, training=True)\n",
        "    gen_loss = generator_loss(fake_output)\n",
        "    disc_loss = discriminator_loss(real_output, fake_output)\n",
        "    #Calculate gradients of generator and discriminator\n",
        "    gradients_of_generator = gen_tape.gradient(gen_loss,\n",
        "                                               generator.trainable_variables)\n",
        "    gradients_of_discriminator = disc_tape.gradient(disc_loss,\n",
        "                                                discriminator.trainable_variables)\n",
        "    generator_optimizer.apply_gradients(zip(gradients_of_generator, generator.trainable_variables))\n",
        "    discriminator_optimizer.apply_gradients(zip(gradients_of_discriminator, discriminator.trainable_variables))\n",
        "\n",
        "    return gen_loss, disc_loss"
      ]
    },
    {
      "cell_type": "code",
      "execution_count": null,
      "metadata": {
        "id": "3pjHwfscayx2"
      },
      "outputs": [],
      "source": [
        "import os\n",
        "\n",
        "checkpoint_dir = './training_checkpoints'\n",
        "checkpoint_prefix = os.path.join(checkpoint_dir, \"ckpt\")\n",
        "checkpoint = tf.train.Checkpoint(generator_optimizer=generator_optimizer,A\n",
        "                                 discriminator_optimizer=discriminator_optimizer,\n",
        "                                 generator=generator,\n",
        "                                 discriminator=discriminator)"
      ]
    },
    {
      "cell_type": "code",
      "execution_count": null,
      "metadata": {
        "id": "3A2SVo2kmpoB"
      },
      "outputs": [],
      "source": [
        "def plot_metrics(metric_name, title, ylabel, train_data, val_data, yscale='linear'):\n",
        "    plt.figure()\n",
        "    plt.yscale(yscale)\n",
        "    plt.plot(train_data, label='Training ' + metric_name)\n",
        "    plt.plot(val_data, label='Validation ' + metric_name)\n",
        "    plt.title(title)\n",
        "    plt.xlabel('Epoch')\n",
        "    plt.ylabel(ylabel)\n",
        "    plt.legend()\n",
        "    plt.show()"
      ]
    },
    {
      "cell_type": "code",
      "execution_count": null,
      "metadata": {
        "id": "PeYhEzFQBpBE"
      },
      "outputs": [],
      "source": [
        "def plot_accuracy(acc_data, title, ylabel):\n",
        "    plt.figure()\n",
        "    plt.plot(acc_data, label='Accuracy')\n",
        "    plt.title(title)\n",
        "    plt.xlabel('Epoch')\n",
        "    plt.ylabel(ylabel)\n",
        "    plt.legend()\n",
        "    plt.show()"
      ]
    },
    {
      "cell_type": "code",
      "execution_count": null,
      "metadata": {
        "id": "dLTlhF5WTmpB"
      },
      "outputs": [],
      "source": [
        "import time\n",
        "from IPython import display\n",
        "\n",
        "def train_old(dataset, epochs):\n",
        "  for epoch in range(epochs):\n",
        "    start = time.time()\n",
        "    for image_batch in dataset:\n",
        "      train_step(image_batch)\n",
        "    display.clear_output(wait=True)\n",
        "    generate_and_save_images(generator,\n",
        "                             epoch + 1,\n",
        "                             seed)\n",
        "    if (epoch + 1) % 5 == 0:\n",
        "      checkpoint.save(file_prefix = checkpoint_prefix)\n",
        "    print ('Time for epoch {} is {} sec'.format(epoch + 1, time.time()-start))\n",
        "\n",
        "    display.clear_output(wait=True)\n",
        "    generate_and_save_images(generator,\n",
        "                           epochs,\n",
        "                           seed)"
      ]
    },
    {
      "cell_type": "code",
      "execution_count": null,
      "metadata": {
        "id": "4ANwmiUJmwFl"
      },
      "outputs": [],
      "source": [
        "from sklearn.metrics import accuracy_score\n",
        "\n",
        "def train(dataset, epochs):\n",
        "    train_loss_results = []\n",
        "    val_loss_results = []\n",
        "\n",
        "    for epoch in range(epochs):\n",
        "        start = time.time()\n",
        "\n",
        "        for image_batch in dataset:\n",
        "            gen_loss, disc_loss = train_step(image_batch)\n",
        "\n",
        "        train_loss_results.append(gen_loss)\n",
        "        val_loss_results.append(disc_loss)\n",
        "\n",
        "        noise=tf.random.normal([1,100])\n",
        "\n",
        "        display.clear_output(wait=True)\n",
        "        generate_and_save_images(generator, epoch + 1, seed)\n",
        "\n",
        "        if (epoch + 1) % 5 == 0:\n",
        "            checkpoint.save(file_prefix=checkpoint_prefix)\n",
        "\n",
        "        print('Time for epoch {} is {} sec'.format(epoch + 1, time.time() - start))\n",
        "\n",
        "    # Plot loss and accuracy graphs\n",
        "    plot_metrics('Generator Loss', 'Training and Validation Generator Loss', 'Loss', train_loss_results, val_loss_results)"
      ]
    },
    {
      "cell_type": "code",
      "execution_count": null,
      "metadata": {
        "id": "v4m-Ua4abIy-"
      },
      "outputs": [],
      "source": [
        "def generate_and_save_images(model, epoch, test_input):\n",
        "  predictions = model(test_input, training=False)\n",
        "\n",
        "  fig = plt.figure(figsize=(4,4))\n",
        "  for i in range(predictions.shape[0]):\n",
        "    plt.subplot(4, 4, i+1)\n",
        "    plt.imshow(predictions[i, :, :, 0] * 255.0, cmap='gray')\n",
        "    plt.axis('off')\n",
        "\n",
        "  #plt.savefig('image_at_epoch_{:04d}.png'.format(epoch))\n",
        "  plt.show()\n"
      ]
    },
    {
      "cell_type": "code",
      "execution_count": null,
      "metadata": {
        "id": "RCHb23eTbeDD"
      },
      "outputs": [],
      "source": [
        "train(train_dataset, EPOCHS)"
      ]
    },
    {
      "cell_type": "code",
      "source": [
        "noise=tf.random.normal([1,100])\n",
        "generated_image = generator(noise, training=False)\n",
        "plt.imshow(generated_image[0, :, :, 0])\n",
        "plt.imshow(generated_image[0, :, :, 0], cmap='gray')"
      ],
      "metadata": {
        "colab": {
          "base_uri": "https://localhost:8080/",
          "height": 447
        },
        "id": "wu-esBF8O5he",
        "outputId": "38284df8-5d70-4c88-8768-342a3f684f0f"
      },
      "execution_count": null,
      "outputs": [
        {
          "output_type": "execute_result",
          "data": {
            "text/plain": [
              "<matplotlib.image.AxesImage at 0x7ec434c7ba60>"
            ]
          },
          "metadata": {},
          "execution_count": 115
        },
        {
          "output_type": "display_data",
          "data": {
            "text/plain": [
              "<Figure size 640x480 with 1 Axes>"
            ],
            "image/png": "[encoded data removed]"
          },
          "metadata": {}
        }
      ]
    },
    {
      "cell_type": "code",
      "source": [
        "epochs = 6000\n",
        "batch_size = 4096\n",
        "noise_dim = 100\n",
        "num_example_to_generate = 10\n",
        "reshape = 28\n",
        "\n",
        "result = train(epochs,\n",
        "               batch_size,\n",
        "               noise_dim,\n",
        "               )"
      ],
      "metadata": {
        "id": "dbFiumlLdELq"
      },
      "execution_count": null,
      "outputs": []
    }
  ],
  "metadata": {
    "colab": {
      "provenance": [],
      "gpuType": "T4"
    },
    "kernelspec": {
      "display_name": "Python 3",
      "name": "python3"
    },
    "language_info": {
      "name": "python"
    },
    "accelerator": "GPU"
  },
  "nbformat": 4,
  "nbformat_minor": 0
}